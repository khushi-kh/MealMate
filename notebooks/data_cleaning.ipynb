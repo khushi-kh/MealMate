{
 "cells": [
  {
   "cell_type": "markdown",
   "id": "fb75c873",
   "metadata": {},
   "source": [
    "# MealMate Data Cleaning and EDA"
   ]
  },
  {
   "cell_type": "markdown",
   "id": "407a4cac",
   "metadata": {},
   "source": [
    "### Import Statements"
   ]
  },
  {
   "cell_type": "code",
   "execution_count": 1,
   "id": "35c8cda0",
   "metadata": {},
   "outputs": [],
   "source": [
    "import pandas as pd"
   ]
  },
  {
   "cell_type": "markdown",
   "id": "ec1ecee7",
   "metadata": {},
   "source": [
    "### Data Preprocessing"
   ]
  },
  {
   "cell_type": "code",
   "execution_count": 25,
   "id": "2f8b1d50",
   "metadata": {},
   "outputs": [],
   "source": [
    "df = pd.read_csv('D:/Khushi/Python Practice/Python Projects/MealMate/data/meals_data.csv')"
   ]
  },
  {
   "cell_type": "code",
   "execution_count": 26,
   "id": "f56aa70d",
   "metadata": {},
   "outputs": [
    {
     "data": {
      "text/plain": [
       "(1960, 13)"
      ]
     },
     "execution_count": 26,
     "metadata": {},
     "output_type": "execute_result"
    }
   ],
   "source": [
    "df.shape"
   ]
  },
  {
   "cell_type": "code",
   "execution_count": 27,
   "id": "1002fdcf",
   "metadata": {},
   "outputs": [
    {
     "data": {
      "text/plain": [
       "Index(['name', 'meal_type', 'diet_type', 'calories', 'protein', 'fats',\n",
       "       'carbs', 'fiber', 'sugar', 'iron', 'sodium', 'cholesterol',\n",
       "       'recipe_link'],\n",
       "      dtype='object')"
      ]
     },
     "execution_count": 27,
     "metadata": {},
     "output_type": "execute_result"
    }
   ],
   "source": [
    "df.columns"
   ]
  },
  {
   "cell_type": "code",
   "execution_count": 28,
   "id": "b30147a4",
   "metadata": {},
   "outputs": [
    {
     "name": "stdout",
     "output_type": "stream",
     "text": [
      "<class 'pandas.core.frame.DataFrame'>\n",
      "RangeIndex: 1960 entries, 0 to 1959\n",
      "Data columns (total 13 columns):\n",
      " #   Column       Non-Null Count  Dtype  \n",
      "---  ------       --------------  -----  \n",
      " 0   name         1960 non-null   object \n",
      " 1   meal_type    1960 non-null   object \n",
      " 2   diet_type    1960 non-null   object \n",
      " 3   calories     1960 non-null   float64\n",
      " 4   protein      1960 non-null   float64\n",
      " 5   fats         1960 non-null   float64\n",
      " 6   carbs        1960 non-null   float64\n",
      " 7   fiber        1960 non-null   float64\n",
      " 8   sugar        1960 non-null   float64\n",
      " 9   iron         1960 non-null   float64\n",
      " 10  sodium       1960 non-null   float64\n",
      " 11  cholesterol  1960 non-null   float64\n",
      " 12  recipe_link  1960 non-null   object \n",
      "dtypes: float64(9), object(4)\n",
      "memory usage: 199.2+ KB\n"
     ]
    }
   ],
   "source": [
    "df.info()"
   ]
  },
  {
   "cell_type": "code",
   "execution_count": 29,
   "id": "9401d89a",
   "metadata": {},
   "outputs": [
    {
     "data": {
      "text/html": [
       "<div>\n",
       "<style scoped>\n",
       "    .dataframe tbody tr th:only-of-type {\n",
       "        vertical-align: middle;\n",
       "    }\n",
       "\n",
       "    .dataframe tbody tr th {\n",
       "        vertical-align: top;\n",
       "    }\n",
       "\n",
       "    .dataframe thead th {\n",
       "        text-align: right;\n",
       "    }\n",
       "</style>\n",
       "<table border=\"1\" class=\"dataframe\">\n",
       "  <thead>\n",
       "    <tr style=\"text-align: right;\">\n",
       "      <th></th>\n",
       "      <th>name</th>\n",
       "      <th>meal_type</th>\n",
       "      <th>diet_type</th>\n",
       "      <th>calories</th>\n",
       "      <th>protein</th>\n",
       "      <th>fats</th>\n",
       "      <th>carbs</th>\n",
       "      <th>fiber</th>\n",
       "      <th>sugar</th>\n",
       "      <th>iron</th>\n",
       "      <th>sodium</th>\n",
       "      <th>cholesterol</th>\n",
       "      <th>recipe_link</th>\n",
       "    </tr>\n",
       "  </thead>\n",
       "  <tbody>\n",
       "    <tr>\n",
       "      <th>0</th>\n",
       "      <td>Powerhouse Almond Matcha Superfood Smoothie</td>\n",
       "      <td>breakfast</td>\n",
       "      <td>gluten free, dairy free</td>\n",
       "      <td>281.18</td>\n",
       "      <td>10.33</td>\n",
       "      <td>12.94</td>\n",
       "      <td>33.78</td>\n",
       "      <td>7.08</td>\n",
       "      <td>20.05</td>\n",
       "      <td>2.79</td>\n",
       "      <td>252.79</td>\n",
       "      <td>0.00</td>\n",
       "      <td>https://spoonacular.com/recipes/Powerhouse-Alm...</td>\n",
       "    </tr>\n",
       "    <tr>\n",
       "      <th>1</th>\n",
       "      <td>Butternut Squash Frittata</td>\n",
       "      <td>breakfast</td>\n",
       "      <td>gluten free</td>\n",
       "      <td>462.09</td>\n",
       "      <td>23.89</td>\n",
       "      <td>3.99</td>\n",
       "      <td>96.03</td>\n",
       "      <td>16.56</td>\n",
       "      <td>23.67</td>\n",
       "      <td>8.22</td>\n",
       "      <td>336.24</td>\n",
       "      <td>7.42</td>\n",
       "      <td>https://spoonacular.com/recipes/Butternut-Squa...</td>\n",
       "    </tr>\n",
       "    <tr>\n",
       "      <th>2</th>\n",
       "      <td>Finger Foods: Frittata Muffins</td>\n",
       "      <td>breakfast</td>\n",
       "      <td>gluten free, lacto ovo vegetarian, primal, ket...</td>\n",
       "      <td>654.73</td>\n",
       "      <td>49.45</td>\n",
       "      <td>44.88</td>\n",
       "      <td>12.90</td>\n",
       "      <td>3.51</td>\n",
       "      <td>5.84</td>\n",
       "      <td>5.64</td>\n",
       "      <td>964.99</td>\n",
       "      <td>1038.70</td>\n",
       "      <td>https://spoonacular.com/recipes/Finger-Foods:-...</td>\n",
       "    </tr>\n",
       "    <tr>\n",
       "      <th>3</th>\n",
       "      <td>Doughnuts</td>\n",
       "      <td>breakfast</td>\n",
       "      <td>lacto ovo vegetarian</td>\n",
       "      <td>430.24</td>\n",
       "      <td>11.36</td>\n",
       "      <td>2.04</td>\n",
       "      <td>91.33</td>\n",
       "      <td>2.99</td>\n",
       "      <td>19.34</td>\n",
       "      <td>4.50</td>\n",
       "      <td>602.56</td>\n",
       "      <td>3.64</td>\n",
       "      <td>https://spoonacular.com/recipes/Doughnuts-716276</td>\n",
       "    </tr>\n",
       "    <tr>\n",
       "      <th>4</th>\n",
       "      <td>Peanut Butter and Jelly Smoothie</td>\n",
       "      <td>breakfast</td>\n",
       "      <td>gluten free, dairy free, fodmap friendly</td>\n",
       "      <td>779.48</td>\n",
       "      <td>19.58</td>\n",
       "      <td>35.76</td>\n",
       "      <td>103.92</td>\n",
       "      <td>7.57</td>\n",
       "      <td>65.38</td>\n",
       "      <td>2.42</td>\n",
       "      <td>364.08</td>\n",
       "      <td>0.00</td>\n",
       "      <td>https://spoonacular.com/recipes/Peanut-Butter-...</td>\n",
       "    </tr>\n",
       "  </tbody>\n",
       "</table>\n",
       "</div>"
      ],
      "text/plain": [
       "                                          name  meal_type  \\\n",
       "0  Powerhouse Almond Matcha Superfood Smoothie  breakfast   \n",
       "1                    Butternut Squash Frittata  breakfast   \n",
       "2               Finger Foods: Frittata Muffins  breakfast   \n",
       "3                                    Doughnuts  breakfast   \n",
       "4             Peanut Butter and Jelly Smoothie  breakfast   \n",
       "\n",
       "                                           diet_type  calories  protein  \\\n",
       "0                            gluten free, dairy free    281.18    10.33   \n",
       "1                                        gluten free    462.09    23.89   \n",
       "2  gluten free, lacto ovo vegetarian, primal, ket...    654.73    49.45   \n",
       "3                               lacto ovo vegetarian    430.24    11.36   \n",
       "4           gluten free, dairy free, fodmap friendly    779.48    19.58   \n",
       "\n",
       "    fats   carbs  fiber  sugar  iron  sodium  cholesterol  \\\n",
       "0  12.94   33.78   7.08  20.05  2.79  252.79         0.00   \n",
       "1   3.99   96.03  16.56  23.67  8.22  336.24         7.42   \n",
       "2  44.88   12.90   3.51   5.84  5.64  964.99      1038.70   \n",
       "3   2.04   91.33   2.99  19.34  4.50  602.56         3.64   \n",
       "4  35.76  103.92   7.57  65.38  2.42  364.08         0.00   \n",
       "\n",
       "                                         recipe_link  \n",
       "0  https://spoonacular.com/recipes/Powerhouse-Alm...  \n",
       "1  https://spoonacular.com/recipes/Butternut-Squa...  \n",
       "2  https://spoonacular.com/recipes/Finger-Foods:-...  \n",
       "3   https://spoonacular.com/recipes/Doughnuts-716276  \n",
       "4  https://spoonacular.com/recipes/Peanut-Butter-...  "
      ]
     },
     "execution_count": 29,
     "metadata": {},
     "output_type": "execute_result"
    }
   ],
   "source": [
    "df.head()"
   ]
  },
  {
   "cell_type": "markdown",
   "id": "a76c0be5",
   "metadata": {},
   "source": [
    "#### Handling Null Values"
   ]
  },
  {
   "cell_type": "code",
   "execution_count": 30,
   "id": "6df69d66",
   "metadata": {},
   "outputs": [
    {
     "data": {
      "text/plain": [
       "name           0\n",
       "meal_type      0\n",
       "diet_type      0\n",
       "calories       0\n",
       "protein        0\n",
       "fats           0\n",
       "carbs          0\n",
       "fiber          0\n",
       "sugar          0\n",
       "iron           0\n",
       "sodium         0\n",
       "cholesterol    0\n",
       "recipe_link    0\n",
       "dtype: int64"
      ]
     },
     "execution_count": 30,
     "metadata": {},
     "output_type": "execute_result"
    }
   ],
   "source": [
    "df.isnull().sum()"
   ]
  },
  {
   "cell_type": "markdown",
   "id": "1f97106b",
   "metadata": {},
   "source": [
    "DataSet is free from null values"
   ]
  },
  {
   "cell_type": "markdown",
   "id": "dc6dc0e6",
   "metadata": {},
   "source": [
    "#### Handling Duplicate Data"
   ]
  },
  {
   "cell_type": "code",
   "execution_count": 31,
   "id": "a215456d",
   "metadata": {},
   "outputs": [
    {
     "data": {
      "text/plain": [
       "np.int64(0)"
      ]
     },
     "execution_count": 31,
     "metadata": {},
     "output_type": "execute_result"
    }
   ],
   "source": [
    "df.duplicated().sum()"
   ]
  },
  {
   "cell_type": "markdown",
   "id": "d71e6cb4",
   "metadata": {},
   "source": [
    "The Data is free from duplicate values"
   ]
  },
  {
   "cell_type": "markdown",
   "id": "1fc9c806",
   "metadata": {},
   "source": [
    "#### Handling diet type"
   ]
  },
  {
   "cell_type": "markdown",
   "id": "b90239c1",
   "metadata": {},
   "source": [
    "In the dataset, the non-veg meals are marked as unknown because data is extracted from spoonacular api which does not explicitly marks meals containing meat as non-veg, so we will do it manually"
   ]
  },
  {
   "cell_type": "code",
   "execution_count": 32,
   "id": "6e0828f9",
   "metadata": {},
   "outputs": [],
   "source": [
    "df['diet_type'] = df['diet_type'].replace('unknown', 'non vegetarian')"
   ]
  },
  {
   "cell_type": "code",
   "execution_count": 35,
   "id": "ef35c0f6",
   "metadata": {},
   "outputs": [
    {
     "data": {
      "text/html": [
       "<div>\n",
       "<style scoped>\n",
       "    .dataframe tbody tr th:only-of-type {\n",
       "        vertical-align: middle;\n",
       "    }\n",
       "\n",
       "    .dataframe tbody tr th {\n",
       "        vertical-align: top;\n",
       "    }\n",
       "\n",
       "    .dataframe thead th {\n",
       "        text-align: right;\n",
       "    }\n",
       "</style>\n",
       "<table border=\"1\" class=\"dataframe\">\n",
       "  <thead>\n",
       "    <tr style=\"text-align: right;\">\n",
       "      <th></th>\n",
       "      <th>name</th>\n",
       "      <th>meal_type</th>\n",
       "      <th>diet_type</th>\n",
       "      <th>calories</th>\n",
       "      <th>protein</th>\n",
       "      <th>fats</th>\n",
       "      <th>carbs</th>\n",
       "      <th>fiber</th>\n",
       "      <th>sugar</th>\n",
       "      <th>iron</th>\n",
       "      <th>sodium</th>\n",
       "      <th>cholesterol</th>\n",
       "      <th>recipe_link</th>\n",
       "    </tr>\n",
       "  </thead>\n",
       "  <tbody>\n",
       "    <tr>\n",
       "      <th>24</th>\n",
       "      <td>Open-Face Egg Sandwich with Bacon, Asparagus, ...</td>\n",
       "      <td>breakfast</td>\n",
       "      <td>non vegetarian</td>\n",
       "      <td>654.20</td>\n",
       "      <td>26.72</td>\n",
       "      <td>41.71</td>\n",
       "      <td>47.26</td>\n",
       "      <td>6.41</td>\n",
       "      <td>7.65</td>\n",
       "      <td>8.66</td>\n",
       "      <td>1252.54</td>\n",
       "      <td>196.97</td>\n",
       "      <td>https://spoonacular.com/recipes/Open-Face-Egg-...</td>\n",
       "    </tr>\n",
       "    <tr>\n",
       "      <th>31</th>\n",
       "      <td>Asparagus Eggs Benedict</td>\n",
       "      <td>breakfast</td>\n",
       "      <td>non vegetarian</td>\n",
       "      <td>779.55</td>\n",
       "      <td>34.72</td>\n",
       "      <td>57.46</td>\n",
       "      <td>30.62</td>\n",
       "      <td>2.77</td>\n",
       "      <td>1.80</td>\n",
       "      <td>4.67</td>\n",
       "      <td>1618.62</td>\n",
       "      <td>763.46</td>\n",
       "      <td>https://spoonacular.com/recipes/Asparagus-Eggs...</td>\n",
       "    </tr>\n",
       "    <tr>\n",
       "      <th>44</th>\n",
       "      <td>Simple Spinach and Tomato Frittata</td>\n",
       "      <td>breakfast</td>\n",
       "      <td>non vegetarian</td>\n",
       "      <td>162.82</td>\n",
       "      <td>13.45</td>\n",
       "      <td>8.66</td>\n",
       "      <td>8.38</td>\n",
       "      <td>1.73</td>\n",
       "      <td>4.20</td>\n",
       "      <td>3.38</td>\n",
       "      <td>190.25</td>\n",
       "      <td>327.36</td>\n",
       "      <td>https://spoonacular.com/recipes/Simple-Spinach...</td>\n",
       "    </tr>\n",
       "    <tr>\n",
       "      <th>57</th>\n",
       "      <td>Strawberry Shortcake w. Mini Strawberry PopTarts</td>\n",
       "      <td>breakfast</td>\n",
       "      <td>non vegetarian</td>\n",
       "      <td>306.38</td>\n",
       "      <td>3.56</td>\n",
       "      <td>12.79</td>\n",
       "      <td>45.17</td>\n",
       "      <td>3.56</td>\n",
       "      <td>17.01</td>\n",
       "      <td>1.68</td>\n",
       "      <td>192.47</td>\n",
       "      <td>4.24</td>\n",
       "      <td>https://spoonacular.com/recipes/Strawberry-Sho...</td>\n",
       "    </tr>\n",
       "    <tr>\n",
       "      <th>66</th>\n",
       "      <td>Best Breakfast Burrito</td>\n",
       "      <td>breakfast</td>\n",
       "      <td>non vegetarian</td>\n",
       "      <td>959.68</td>\n",
       "      <td>31.48</td>\n",
       "      <td>49.61</td>\n",
       "      <td>98.02</td>\n",
       "      <td>9.97</td>\n",
       "      <td>7.61</td>\n",
       "      <td>7.11</td>\n",
       "      <td>1330.26</td>\n",
       "      <td>65.14</td>\n",
       "      <td>https://spoonacular.com/recipes/Best-Breakfast...</td>\n",
       "    </tr>\n",
       "  </tbody>\n",
       "</table>\n",
       "</div>"
      ],
      "text/plain": [
       "                                                 name  meal_type  \\\n",
       "24  Open-Face Egg Sandwich with Bacon, Asparagus, ...  breakfast   \n",
       "31                            Asparagus Eggs Benedict  breakfast   \n",
       "44                 Simple Spinach and Tomato Frittata  breakfast   \n",
       "57   Strawberry Shortcake w. Mini Strawberry PopTarts  breakfast   \n",
       "66                             Best Breakfast Burrito  breakfast   \n",
       "\n",
       "         diet_type  calories  protein   fats  carbs  fiber  sugar  iron  \\\n",
       "24  non vegetarian    654.20    26.72  41.71  47.26   6.41   7.65  8.66   \n",
       "31  non vegetarian    779.55    34.72  57.46  30.62   2.77   1.80  4.67   \n",
       "44  non vegetarian    162.82    13.45   8.66   8.38   1.73   4.20  3.38   \n",
       "57  non vegetarian    306.38     3.56  12.79  45.17   3.56  17.01  1.68   \n",
       "66  non vegetarian    959.68    31.48  49.61  98.02   9.97   7.61  7.11   \n",
       "\n",
       "     sodium  cholesterol                                        recipe_link  \n",
       "24  1252.54       196.97  https://spoonacular.com/recipes/Open-Face-Egg-...  \n",
       "31  1618.62       763.46  https://spoonacular.com/recipes/Asparagus-Eggs...  \n",
       "44   190.25       327.36  https://spoonacular.com/recipes/Simple-Spinach...  \n",
       "57   192.47         4.24  https://spoonacular.com/recipes/Strawberry-Sho...  \n",
       "66  1330.26        65.14  https://spoonacular.com/recipes/Best-Breakfast...  "
      ]
     },
     "execution_count": 35,
     "metadata": {},
     "output_type": "execute_result"
    }
   ],
   "source": [
    "df[df['diet_type'] == 'non vegetarian'].head()"
   ]
  },
  {
   "cell_type": "markdown",
   "id": "9a19860a",
   "metadata": {},
   "source": [
    "#### Formatting diet_type Column"
   ]
  },
  {
   "cell_type": "code",
   "execution_count": 36,
   "id": "b48aa68a",
   "metadata": {},
   "outputs": [],
   "source": [
    "def preprocess_diet_types(df):\n",
    "    # Handle missing and normalize text\n",
    "    df['diet_type'] = df['diet_type'].fillna('').str.lower()\n",
    "    \n",
    "    # Convert to list of tags\n",
    "    df['diet_type_list'] = df['diet_type'].apply(lambda x: [tag.strip() for tag in x.split(',')])\n",
    "    \n",
    "    # Extract all unique diet tags\n",
    "    all_tags = sorted(set(tag for tags in df['diet_type_list'] for tag in tags if tag))\n",
    "\n",
    "    # Add binary columns\n",
    "    for tag in all_tags:\n",
    "        col_name = f'{tag.replace(\" \", \"_\")}'\n",
    "        df[col_name] = df['diet_type_list'].apply(lambda x: int(tag in x))\n",
    "\n",
    "    # Drop the helper column\n",
    "    df.drop(columns=['diet_type_list'], inplace=True)\n",
    "\n",
    "    return df\n",
    "\n",
    "new_df = preprocess_diet_types(df=df)"
   ]
  },
  {
   "cell_type": "code",
   "execution_count": 39,
   "id": "44ad6749",
   "metadata": {},
   "outputs": [
    {
     "data": {
      "text/plain": [
       "Index(['name', 'meal_type', 'diet_type', 'calories', 'protein', 'fats',\n",
       "       'carbs', 'fiber', 'sugar', 'iron', 'sodium', 'cholesterol',\n",
       "       'recipe_link', 'dairy_free', 'fodmap_friendly', 'gluten_free',\n",
       "       'ketogenic', 'lacto_ovo_vegetarian', 'non_vegetarian', 'paleolithic',\n",
       "       'pescatarian', 'primal', 'vegan', 'whole_30'],\n",
       "      dtype='object')"
      ]
     },
     "execution_count": 39,
     "metadata": {},
     "output_type": "execute_result"
    }
   ],
   "source": [
    "new_df.columns"
   ]
  },
  {
   "cell_type": "code",
   "execution_count": 40,
   "id": "d213d511",
   "metadata": {},
   "outputs": [],
   "source": [
    "new_df = new_df.drop(columns=['fodmap_friendly'])"
   ]
  },
  {
   "cell_type": "code",
   "execution_count": 43,
   "id": "daae9060",
   "metadata": {},
   "outputs": [
    {
     "name": "stdout",
     "output_type": "stream",
     "text": [
      "<class 'pandas.core.frame.DataFrame'>\n",
      "RangeIndex: 1960 entries, 0 to 1959\n",
      "Data columns (total 23 columns):\n",
      " #   Column                Non-Null Count  Dtype  \n",
      "---  ------                --------------  -----  \n",
      " 0   name                  1960 non-null   object \n",
      " 1   meal_type             1960 non-null   object \n",
      " 2   diet_type             1960 non-null   object \n",
      " 3   calories              1960 non-null   float64\n",
      " 4   protein               1960 non-null   float64\n",
      " 5   fats                  1960 non-null   float64\n",
      " 6   carbs                 1960 non-null   float64\n",
      " 7   fiber                 1960 non-null   float64\n",
      " 8   sugar                 1960 non-null   float64\n",
      " 9   iron                  1960 non-null   float64\n",
      " 10  sodium                1960 non-null   float64\n",
      " 11  cholesterol           1960 non-null   float64\n",
      " 12  recipe_link           1960 non-null   object \n",
      " 13  dairy_free            1960 non-null   int64  \n",
      " 14  gluten_free           1960 non-null   int64  \n",
      " 15  ketogenic             1960 non-null   int64  \n",
      " 16  lacto_ovo_vegetarian  1960 non-null   int64  \n",
      " 17  non_vegetarian        1960 non-null   int64  \n",
      " 18  paleolithic           1960 non-null   int64  \n",
      " 19  pescatarian           1960 non-null   int64  \n",
      " 20  primal                1960 non-null   int64  \n",
      " 21  vegan                 1960 non-null   int64  \n",
      " 22  whole_30              1960 non-null   int64  \n",
      "dtypes: float64(9), int64(10), object(4)\n",
      "memory usage: 352.3+ KB\n"
     ]
    }
   ],
   "source": [
    "new_df.info()"
   ]
  },
  {
   "cell_type": "markdown",
   "id": "764eef42",
   "metadata": {},
   "source": [
    "#### Exporting Cleaned dataset as csv"
   ]
  },
  {
   "cell_type": "code",
   "execution_count": null,
   "id": "633de0a7",
   "metadata": {},
   "outputs": [
    {
     "ename": "NameError",
     "evalue": "name 'df' is not defined",
     "output_type": "error",
     "traceback": [
      "\u001b[31m---------------------------------------------------------------------------\u001b[39m",
      "\u001b[31mNameError\u001b[39m                                 Traceback (most recent call last)",
      "\u001b[36mCell\u001b[39m\u001b[36m \u001b[39m\u001b[32mIn[2]\u001b[39m\u001b[32m, line 1\u001b[39m\n\u001b[32m----> \u001b[39m\u001b[32m1\u001b[39m \u001b[43mdf\u001b[49m.to_csv(\u001b[33m\"\u001b[39m\u001b[33mD:/Khushi/Python Practice/Python Projects/MealMate/data/cleaned_data.csv\u001b[39m\u001b[33m\"\u001b[39m, index=\u001b[38;5;28;01mFalse\u001b[39;00m)\n",
      "\u001b[31mNameError\u001b[39m: name 'df' is not defined"
     ]
    }
   ],
   "source": [
    "cleaned_df.to_csv(\"D:/Khushi/Python Practice/Python Projects/MealMate/data/cleaned_data.csv\", index=False)"
   ]
  },
  {
   "cell_type": "code",
   "execution_count": 3,
   "id": "2d769083",
   "metadata": {},
   "outputs": [
    {
     "data": {
      "text/plain": [
       "Index(['name', 'meal_type', 'diet_type', 'calories', 'protein', 'fats',\n",
       "       'carbs', 'fiber', 'sugar', 'iron', 'sodium', 'cholesterol',\n",
       "       'recipe_link', 'dairy_free', 'fodmap_friendly', 'gluten_free',\n",
       "       'ketogenic', 'vegetarian', 'non_vegetarian', 'paleolithic',\n",
       "       'pescatarian', 'primal', 'vegan', 'whole_30'],\n",
       "      dtype='object')"
      ]
     },
     "execution_count": 3,
     "metadata": {},
     "output_type": "execute_result"
    }
   ],
   "source": [
    "# cleaned_csv info\n",
    "cleaned_df = pd.read_csv('D:/Khushi/Python Practice/Python Projects/MealMate/data/cleaned_data.csv')\n",
    "cleaned_df.columns"
   ]
  },
  {
   "cell_type": "code",
   "execution_count": 4,
   "id": "0cafd0c2",
   "metadata": {},
   "outputs": [],
   "source": [
    "cleaned_df['diet_type'] = cleaned_df['diet_type'].replace('lacto ovo vegetarian', 'vegetarian')"
   ]
  },
  {
   "cell_type": "code",
   "execution_count": 5,
   "id": "3ec97dda",
   "metadata": {},
   "outputs": [
    {
     "name": "stdout",
     "output_type": "stream",
     "text": [
      "<class 'pandas.core.frame.DataFrame'>\n",
      "RangeIndex: 1960 entries, 0 to 1959\n",
      "Data columns (total 24 columns):\n",
      " #   Column           Non-Null Count  Dtype  \n",
      "---  ------           --------------  -----  \n",
      " 0   name             1960 non-null   object \n",
      " 1   meal_type        1960 non-null   object \n",
      " 2   diet_type        1960 non-null   object \n",
      " 3   calories         1960 non-null   float64\n",
      " 4   protein          1960 non-null   float64\n",
      " 5   fats             1960 non-null   float64\n",
      " 6   carbs            1960 non-null   float64\n",
      " 7   fiber            1960 non-null   float64\n",
      " 8   sugar            1960 non-null   float64\n",
      " 9   iron             1960 non-null   float64\n",
      " 10  sodium           1960 non-null   float64\n",
      " 11  cholesterol      1960 non-null   float64\n",
      " 12  recipe_link      1960 non-null   object \n",
      " 13  dairy_free       1960 non-null   int64  \n",
      " 14  fodmap_friendly  1960 non-null   int64  \n",
      " 15  gluten_free      1960 non-null   int64  \n",
      " 16  ketogenic        1960 non-null   int64  \n",
      " 17  vegetarian       1960 non-null   int64  \n",
      " 18  non_vegetarian   1960 non-null   int64  \n",
      " 19  paleolithic      1960 non-null   int64  \n",
      " 20  pescatarian      1960 non-null   int64  \n",
      " 21  primal           1960 non-null   int64  \n",
      " 22  vegan            1960 non-null   int64  \n",
      " 23  whole_30         1960 non-null   int64  \n",
      "dtypes: float64(9), int64(11), object(4)\n",
      "memory usage: 367.6+ KB\n"
     ]
    }
   ],
   "source": [
    "cleaned_df.info()"
   ]
  },
  {
   "cell_type": "code",
   "execution_count": 6,
   "id": "c2338eba",
   "metadata": {},
   "outputs": [],
   "source": [
    "cleaned_df.to_csv(\"D:/Khushi/Python Practice/Python Projects/MealMate/data/cleaned_data.csv\", index=False)"
   ]
  },
  {
   "cell_type": "code",
   "execution_count": null,
   "id": "f5e6b9fe",
   "metadata": {},
   "outputs": [],
   "source": []
  }
 ],
 "metadata": {
  "kernelspec": {
   "display_name": ".venv",
   "language": "python",
   "name": "python3"
  },
  "language_info": {
   "codemirror_mode": {
    "name": "ipython",
    "version": 3
   },
   "file_extension": ".py",
   "mimetype": "text/x-python",
   "name": "python",
   "nbconvert_exporter": "python",
   "pygments_lexer": "ipython3",
   "version": "3.12.8"
  }
 },
 "nbformat": 4,
 "nbformat_minor": 5
}
